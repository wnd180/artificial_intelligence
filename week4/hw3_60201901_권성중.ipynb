{
 "cells": [
  {
   "cell_type": "code",
   "execution_count": 1,
   "metadata": {},
   "outputs": [
    {
     "name": "stdout",
     "output_type": "stream",
     "text": [
      "마일리지 : 2,000\n",
      "이코인 : 0\n"
     ]
    }
   ],
   "source": [
    "import requests\n",
    "from bs4 import BeautifulSoup\n",
    "from urllib.parse import urljoin\n",
    "\n",
    "USER = \"his4607\"\n",
    "PASS = \"password\"\n",
    "\n",
    "session = requests.session()\n",
    "\n",
    "login_info = {\n",
    "    \"m_id\" : USER,\n",
    "    \"m_passwd\" : PASS\n",
    "}\n",
    "\n",
    "url_login = \"https://www.hanbit.co.kr/member/login_proc.php\"\n",
    "res = session.post(url_login, data= login_info)\n",
    "res.raise_for_status()\n",
    "\n",
    "url_mypage = \"https://www.hanbit.co.kr/myhanbit/myhanbit.html\"\n",
    "res = session.get(url_mypage)\n",
    "res.raise_for_status()\n",
    "\n",
    "soup = BeautifulSoup(res.text, \"html.parser\")\n",
    "mileage = soup.select_one(\".mileage_section1 span\").get_text()\n",
    "ecoin = soup.select_one(\".mileage_section2 span\").get_text()\n",
    "\n",
    "print(\"마일리지 :\",mileage)\n",
    "print(\"이코인 :\",ecoin)"
   ]
  }
 ],
 "metadata": {
  "interpreter": {
   "hash": "afc9a8c5671bb7f00fceddd0803cc1f45e1930e082f1b4b0e5070c79f71f0e4f"
  },
  "kernelspec": {
   "display_name": "Python 3.9.7 ('base')",
   "language": "python",
   "name": "python3"
  },
  "language_info": {
   "codemirror_mode": {
    "name": "ipython",
    "version": 3
   },
   "file_extension": ".py",
   "mimetype": "text/x-python",
   "name": "python",
   "nbconvert_exporter": "python",
   "pygments_lexer": "ipython3",
   "version": "3.9.7"
  },
  "orig_nbformat": 4
 },
 "nbformat": 4,
 "nbformat_minor": 2
}
