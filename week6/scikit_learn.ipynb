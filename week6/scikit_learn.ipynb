{
 "cells": [
  {
   "cell_type": "code",
   "execution_count": 3,
   "metadata": {},
   "outputs": [
    {
     "name": "stdout",
     "output_type": "stream",
     "text": [
      "            col     scale\n",
      "count  7.000000  7.000000\n",
      "mean   3.000000  0.000000\n",
      "std    4.320494  1.080123\n",
      "min   -3.000000 -1.500000\n",
      "25%    0.000000 -0.750000\n",
      "50%    3.000000  0.000000\n",
      "75%    6.000000  0.750000\n",
      "max    9.000000  1.500000\n",
      "   col  scale  minmax_scale\n",
      "0   -3   -1.5      0.000000\n",
      "1   -1   -1.0      0.166667\n",
      "2    1   -0.5      0.333333\n",
      "3    3    0.0      0.500000\n",
      "4    5    0.5      0.666667\n",
      "5    7    1.0      0.833333\n",
      "6    9    1.5      1.000000\n",
      "            col     scale  minmax_scale\n",
      "count  7.000000  7.000000      7.000000\n",
      "mean   3.000000  0.000000      0.500000\n",
      "std    4.320494  1.080123      0.360041\n",
      "min   -3.000000 -1.500000      0.000000\n",
      "25%    0.000000 -0.750000      0.250000\n",
      "50%    3.000000  0.000000      0.500000\n",
      "75%    6.000000  0.750000      0.750000\n",
      "max    9.000000  1.500000      1.000000\n"
     ]
    }
   ],
   "source": [
    "#Scaling\n",
    "\n",
    "import pandas as pd\n",
    "from sklearn.preprocessing import scale, minmax_scale\n",
    "\n",
    "x = pd.DataFrame({'col':[-3,-1,1,3,5,7,9]})\n",
    "\n",
    "#평균 0, 분산을 이용해 정규화\n",
    "#astype(float)는 scale의 입력이 float이므로 warning 방지를 위해 변환\n",
    "\n",
    "x[\"scale\"] = scale(x.col.astype(float))\n",
    "\n",
    "print(x.describe())\n",
    "#0~1사이의 값으로 정규화\n",
    "x[\"minmax_scale\"] = minmax_scale(x.col.astype(float))\n",
    "\n",
    "print(x)\n",
    "print(x.describe())"
   ]
  },
  {
   "cell_type": "code",
   "execution_count": 6,
   "metadata": {},
   "outputs": [
    {
     "name": "stdout",
     "output_type": "stream",
     "text": [
      "          A         B      C\n",
      "0  0.000000  0.000000    big\n",
      "1  0.926219  0.363636  small\n",
      "2  0.935335  0.628645    big\n",
      "3  1.000000  0.961407  small\n",
      "4  0.938495  1.000000  small\n"
     ]
    }
   ],
   "source": [
    "\n",
    "#minmaxscaler 객체 이용\n",
    "\n",
    "import pandas as pd\n",
    "from sklearn.preprocessing import MinMaxScaler\n",
    "\n",
    "scaler = MinMaxScaler()\n",
    "\n",
    "dfTest = pd.DataFrame({'A':[14.00, 90.20, 90.95, 96.27, 91.21],\n",
    "                       'B':[103.02, 107.26, 110.35, 114.23, 114.68], \n",
    "                       'C':['big','small','big','small','small']})\n",
    "\n",
    "dfTest[['A','B']] = scaler.fit_transform(dfTest[['A','B']])\n",
    "\n",
    "print(dfTest)"
   ]
  },
  {
   "cell_type": "code",
   "execution_count": 7,
   "metadata": {},
   "outputs": [
    {
     "name": "stdout",
     "output_type": "stream",
     "text": [
      "['amsterdam' 'paris' 'tokyo']\n",
      "<class 'numpy.ndarray'>\n",
      "[1 1 2 0]\n",
      "<class 'numpy.ndarray'>\n",
      "['tokyo' 'tokyo' 'paris']\n",
      "<class 'numpy.ndarray'>\n"
     ]
    }
   ],
   "source": [
    "#nominal attributes\n",
    "\n",
    "from sklearn import preprocessing\n",
    "le = preprocessing.LabelEncoder()\n",
    "\n",
    "le.fit(['paris','paris','tokyo','amsterdam'])\n",
    "print(le.classes_)\n",
    "print(type(le.classes_))\n",
    "\n",
    "data= le.transform(['paris','paris','tokyo','amsterdam'])\n",
    "print(data)\n",
    "print(type(data))\n",
    "\n",
    "original = le.inverse_transform([2,2,1])\n",
    "print(original)\n",
    "print(type(data))"
   ]
  },
  {
   "cell_type": "code",
   "execution_count": 8,
   "metadata": {},
   "outputs": [
    {
     "name": "stdout",
     "output_type": "stream",
     "text": [
      "['a', 'b', 'c', 'd', 'e', 'f', 'g', 'h', 'i', 'j', 'k', 'l', 'm', 'n', 'o', 'p', 'q', 'r', 's', 't', 'u', 'v', 'w', 'x', 'y', 'z']\n",
      "[16  0 25]\n"
     ]
    }
   ],
   "source": [
    "#transform 예제\n",
    "\n",
    "from sklearn import preprocessing\n",
    "\n",
    "le = preprocessing.LabelEncoder()\n",
    "\n",
    "str = []\n",
    "for i in range(ord('a'),ord('z') + 1):\n",
    "    str.append(chr(i))\n",
    "\n",
    "print(str)\n",
    "\n",
    "le.fit(str)\n",
    "data = le.transform(['q','a','z'])\n",
    "print(data)"
   ]
  },
  {
   "cell_type": "code",
   "execution_count": 10,
   "metadata": {},
   "outputs": [
    {
     "name": "stdout",
     "output_type": "stream",
     "text": [
      "   A  B\n",
      "0  0  0\n",
      "1  1  1\n",
      "2  1  0\n",
      "3  2  1\n",
      "4  0  0\n",
      "<class 'pandas.core.frame.DataFrame'>\n"
     ]
    }
   ],
   "source": [
    "# dataframe 변환\n",
    "\n",
    "le = preprocessing.LabelEncoder()\n",
    "df = pd.DataFrame({'A':['a','b','b','c','a'],\n",
    "'B' : ['x','y','x','y','x']})\n",
    "\n",
    "#fit_transform: fit과 transform을 동시에 처리\n",
    "#df.apply는 dataframe에서 인자로 주어진 함수를 각 column에 적용하는 함수\n",
    "data = df.apply(le.fit_transform)\n",
    "print(data)\n",
    "print(type(data))"
   ]
  },
  {
   "cell_type": "code",
   "execution_count": 11,
   "metadata": {},
   "outputs": [
    {
     "name": "stdout",
     "output_type": "stream",
     "text": [
      "   country_australia  country_germany  country_korea  country_russia\n",
      "0                  0                0              0               1\n",
      "1                  0                1              0               0\n",
      "2                  1                0              0               0\n",
      "3                  0                0              1               0\n",
      "4                  0                1              0               0\n"
     ]
    }
   ],
   "source": [
    "#one hot encoding\n",
    "df = pd.DataFrame({'country': ['russia','germany','australia','korea','germany']})\n",
    "a = pd.get_dummies(df,prefix= ['country'])\n",
    "print(a)"
   ]
  },
  {
   "cell_type": "code",
   "execution_count": 12,
   "metadata": {},
   "outputs": [
    {
     "name": "stdout",
     "output_type": "stream",
     "text": [
      "   A  a  b  c\n",
      "0  a  0  1  0\n",
      "1  b  1  0  0\n",
      "2  a  0  0  1\n"
     ]
    }
   ],
   "source": [
    "#one-hot encoding 2\n",
    "\n",
    "df = pd.DataFrame({'A':['a','b','a'], 'B':['b','a','c']})\n",
    "\n",
    "#Get one-hot encoding of columns B\n",
    "one_hot = pd.get_dummies(df['B'])\n",
    "\n",
    "#Drop column B as it is now encoded\n",
    "df = df.drop('B',axis=1)\n",
    "#join the encoded df\n",
    "df=df.join(one_hot)\n",
    "print(df)"
   ]
  },
  {
   "cell_type": "code",
   "execution_count": 14,
   "metadata": {},
   "outputs": [
    {
     "name": "stdout",
     "output_type": "stream",
     "text": [
      "   A_a  A_b  A_c  B_x  B_y\n",
      "0    1    0    0    1    0\n",
      "1    0    1    0    0    1\n",
      "2    0    1    0    1    0\n",
      "3    0    0    1    0    1\n",
      "4    1    0    0    1    0\n"
     ]
    }
   ],
   "source": [
    "# Multiple column 변환\n",
    "df = pd.DataFrame({'A': ['a','b','b','c','a'],\n",
    "'B': ['x','y','x','y','x']})\n",
    "\n",
    "a = pd.get_dummies(df,prefix=['A','B'])\n",
    "print(a)"
   ]
  },
  {
   "cell_type": "code",
   "execution_count": 15,
   "metadata": {},
   "outputs": [
    {
     "name": "stdout",
     "output_type": "stream",
     "text": [
      "   B  A_a  A_b  A_c\n",
      "0  3    1    0    0\n",
      "1  4    0    1    0\n",
      "2  7    0    1    0\n",
      "3  2    0    0    1\n",
      "4  5    1    0    0\n"
     ]
    }
   ],
   "source": [
    "#일부만 자동인식 encoding\n",
    "\n",
    "df = pd.DataFrame({'A':['a','b','b','c','a'],\n",
    "'B':[3,4,7,2,5]})\n",
    "a = pd.get_dummies(df,prefix=['A'])\n",
    "print(a)"
   ]
  },
  {
   "cell_type": "code",
   "execution_count": 18,
   "metadata": {},
   "outputs": [
    {
     "name": "stdout",
     "output_type": "stream",
     "text": [
      "   country\n",
      "0        3\n",
      "1        1\n",
      "2        0\n",
      "3        2\n",
      "4        1\n",
      "<class 'pandas.core.frame.DataFrame'>\n",
      "\n",
      "  (0, 3)\t1.0\n",
      "  (1, 1)\t1.0\n",
      "  (2, 0)\t1.0\n",
      "  (3, 2)\t1.0\n",
      "  (4, 1)\t1.0\n",
      "<class 'scipy.sparse.csr.csr_matrix'>\n",
      "\n",
      "[[0. 0. 0. 1.]\n",
      " [0. 1. 0. 0.]\n",
      " [1. 0. 0. 0.]\n",
      " [0. 0. 1. 0.]\n",
      " [0. 1. 0. 0.]]\n",
      "<class 'numpy.ndarray'>\n",
      "     0    1    2    3\n",
      "0  0.0  0.0  0.0  1.0\n",
      "1  0.0  1.0  0.0  0.0\n",
      "2  1.0  0.0  0.0  0.0\n",
      "3  0.0  0.0  1.0  0.0\n",
      "4  0.0  1.0  0.0  0.0\n",
      "<class 'pandas.core.frame.DataFrame'>\n"
     ]
    }
   ],
   "source": [
    "from sklearn.preprocessing import OneHotEncoder\n",
    "from sklearn.preprocessing import LabelEncoder\n",
    "\n",
    "x1 = pd.DataFrame({'country' : ['russia','germany','asutralia','korea', 'germany']})\n",
    "\n",
    "#Dataframe 전체를 라벨인코딩(숫자로 변환) 한 후 , One-hot encoding을 해야함\n",
    "le = LabelEncoder()\n",
    "x2 = x1.apply(le.fit_transform)\n",
    "print(x2)\n",
    "print(type(x2))\n",
    "print()\n",
    "\n",
    "encoder = OneHotEncoder()\n",
    "x2 = encoder.fit_transform(x2) # 결과는 sparse matrix로 변환\n",
    "print(x2)\n",
    "print(type(x2))\n",
    "print()\n",
    "\n",
    "x3 = x2.toarray()  #numpy array로 변화, 추후에 dataframe으로 변환\n",
    "print(x3)\n",
    "print(type(x3))\n",
    "\n",
    "x4 = pd.DataFrame(x3) #최종적으로 다시 dataframe으로 변환\n",
    "print(x4)\n",
    "print(type(x4))\n",
    "\n",
    "\n",
    "\n"
   ]
  },
  {
   "cell_type": "code",
   "execution_count": 19,
   "metadata": {},
   "outputs": [
    {
     "name": "stdout",
     "output_type": "stream",
     "text": [
      "   A  B\n",
      "0  0  0\n",
      "1  1  1\n",
      "2  1  0\n",
      "3  2  1\n",
      "4  0  0\n",
      "<class 'pandas.core.frame.DataFrame'>\n",
      "\n",
      "  (0, 0)\t1.0\n",
      "  (0, 3)\t1.0\n",
      "  (1, 1)\t1.0\n",
      "  (1, 4)\t1.0\n",
      "  (2, 1)\t1.0\n",
      "  (2, 3)\t1.0\n",
      "  (3, 2)\t1.0\n",
      "  (3, 4)\t1.0\n",
      "  (4, 0)\t1.0\n",
      "  (4, 3)\t1.0\n",
      "<class 'scipy.sparse.csr.csr_matrix'>\n",
      "\n",
      "[[1. 0. 0. 1. 0.]\n",
      " [0. 1. 0. 0. 1.]\n",
      " [0. 1. 0. 1. 0.]\n",
      " [0. 0. 1. 0. 1.]\n",
      " [1. 0. 0. 1. 0.]]\n",
      "<class 'numpy.ndarray'>\n",
      "     0    1    2    3    4\n",
      "0  1.0  0.0  0.0  1.0  0.0\n",
      "1  0.0  1.0  0.0  0.0  1.0\n",
      "2  0.0  1.0  0.0  1.0  0.0\n",
      "3  0.0  0.0  1.0  0.0  1.0\n",
      "4  1.0  0.0  0.0  1.0  0.0\n",
      "<class 'pandas.core.frame.DataFrame'>\n"
     ]
    }
   ],
   "source": [
    "# Onehot encoding with Scikit-learn\n",
    "from sklearn.preprocessing import OneHotEncoder\n",
    "from sklearn.preprocessing import LabelEncoder\n",
    "\n",
    "x1 = pd.DataFrame({'A' : ['a','b','b','c','a'],\n",
    "'B': ['x','y','x','y','x']})\n",
    "\n",
    "#Dataframe 전체를 라벨인코딩(숫자로 변환) 한 후 , One-hot encoding을 해야함\n",
    "le = LabelEncoder()\n",
    "x2 = x1.apply(le.fit_transform)\n",
    "print(x2)\n",
    "print(type(x2))\n",
    "print()\n",
    "\n",
    "encoder = OneHotEncoder()\n",
    "x2 = encoder.fit_transform(x2) # 결과는 sparse matrix로 변환\n",
    "print(x2)\n",
    "print(type(x2))\n",
    "print()\n",
    "\n",
    "x3 = x2.toarray()  #numpy array로 변화, 추후에 dataframe으로 변환\n",
    "print(x3)\n",
    "print(type(x3))\n",
    "\n",
    "x4 = pd.DataFrame(x3) #최종적으로 다시 dataframe으로 변환\n",
    "print(x4)\n",
    "print(type(x4))\n",
    "\n",
    "\n",
    "\n"
   ]
  },
  {
   "cell_type": "code",
   "execution_count": 21,
   "metadata": {},
   "outputs": [
    {
     "name": "stdout",
     "output_type": "stream",
     "text": [
      "[[1. 0. 0. 3.]\n",
      " [0. 1. 0. 4.]\n",
      " [0. 1. 0. 5.]\n",
      " [0. 0. 1. 1.]\n",
      " [1. 0. 0. 7.]]\n",
      "<class 'numpy.ndarray'>\n",
      "     0    1    2    3\n",
      "0  1.0  0.0  0.0  3.0\n",
      "1  0.0  1.0  0.0  4.0\n",
      "2  0.0  1.0  0.0  5.0\n",
      "3  0.0  0.0  1.0  1.0\n",
      "4  1.0  0.0  0.0  7.0\n",
      "<class 'pandas.core.frame.DataFrame'>\n"
     ]
    }
   ],
   "source": [
    "#ColumnTransformer 활용\n",
    "from sklearn.compose import ColumnTransformer\n",
    "\n",
    "x = pd.DataFrame({'A': ['a','b','b','c','a'],\n",
    "'B':[3,4,5,1,7]})\n",
    "\n",
    "ct = ColumnTransformer([('one_hot_encoder', OneHotEncoder(), [0])], remainder='passthrough')\n",
    "\n",
    "x = ct.fit_transform(x)\n",
    "\n",
    "print(x)\n",
    "print(type(x))\n",
    "\n",
    "x = pd.DataFrame(x) #dataframe으로 변환\n",
    "\n",
    "print(x)\n",
    "print(type(x))"
   ]
  }
 ],
 "metadata": {
  "interpreter": {
   "hash": "afc9a8c5671bb7f00fceddd0803cc1f45e1930e082f1b4b0e5070c79f71f0e4f"
  },
  "kernelspec": {
   "display_name": "Python 3.9.7 ('base')",
   "language": "python",
   "name": "python3"
  },
  "language_info": {
   "codemirror_mode": {
    "name": "ipython",
    "version": 3
   },
   "file_extension": ".py",
   "mimetype": "text/x-python",
   "name": "python",
   "nbconvert_exporter": "python",
   "pygments_lexer": "ipython3",
   "version": "3.9.7"
  },
  "orig_nbformat": 4
 },
 "nbformat": 4,
 "nbformat_minor": 2
}
