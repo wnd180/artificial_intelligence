{
 "cells": [
  {
   "cell_type": "code",
   "execution_count": 16,
   "metadata": {},
   "outputs": [
    {
     "name": "stdout",
     "output_type": "stream",
     "text": [
      "    col  min_max_scale\n",
      "0   200          0.000\n",
      "1   300          0.125\n",
      "2   400          0.250\n",
      "3   600          0.500\n",
      "4  1000          1.000\n",
      "[[-1.06066017]\n",
      " [-0.70710678]\n",
      " [-0.35355339]\n",
      " [ 0.35355339]\n",
      " [ 1.76776695]]\n"
     ]
    }
   ],
   "source": [
    "# 1번\n",
    "import pandas as pd\n",
    "from sklearn.preprocessing import minmax_scale\n",
    "import numpy as np\n",
    "\n",
    "data = pd.DataFrame({'col' : [200,300,400,600,1000]})\n",
    "\n",
    "# a) min-max normalization\n",
    "data[\"min_max_scale\"] = minmax_scale(data.col.astype(float))\n",
    "print(data)\n",
    "\n",
    "# b) z-score normalilzation\n",
    "from sklearn.preprocessing import StandardScaler\n",
    "import scipy.stats as ss\n",
    "\n",
    "data = pd.DataFrame({'col' : [200,300,400,600,1000]})\n",
    "z_score = StandardScaler().fit_transform(data)\n",
    "print(z_score)"
   ]
  },
  {
   "cell_type": "code",
   "execution_count": 18,
   "metadata": {},
   "outputs": [
    {
     "name": "stdout",
     "output_type": "stream",
     "text": [
      "         age       fat\n",
      "0  -1.825011 -2.144104\n",
      "1  -1.825011 -0.253883\n",
      "2  -1.513635 -2.333126\n",
      "3  -1.513635 -1.221231\n",
      "4  -0.579506  0.290946\n",
      "5  -0.423818 -0.320596\n",
      "6   0.043247 -0.153812\n",
      "7   0.198935 -0.176050\n",
      "8   0.276779  0.268708\n",
      "9   0.432467  0.646752\n",
      "10  0.588155  1.525149\n",
      "11  0.588155  0.001853\n",
      "12  0.743843  0.513325\n",
      "13  0.821687  0.157518\n",
      "14  0.899531  0.591157\n",
      "15  0.899531  0.457730\n",
      "16  1.055220  1.380603\n",
      "17  1.133064  0.769061\n",
      "[[1.        0.8176188]\n",
      " [0.8176188 1.       ]]\n",
      "100.01960784313727\n"
     ]
    }
   ],
   "source": [
    "# 2번\n",
    "\n",
    "age_data = [23,23,27,27,39,41,47,49,50,52,54,54,56,57,58,58,60,61]\n",
    "fat_data = [9.5,26.5,7.8,17.8,31.4,25.9,27.4,27.2,31.2,34.6,42.5,28.8,33.4,30.2,34.1,32.9,41.2,35.7]\n",
    "data2 = pd.DataFrame({'age':[23,23,27,27,39,41,47,49,50,52,54,54,56,57,58,58,60,61],\n",
    "'fat':[9.5,26.5,7.8,17.8,31.4,25.9,27.4,27.2,31.2,34.6,42.5,28.8,33.4,30.2,34.1,32.9,41.2,35.7]})\n",
    "\n",
    "# a) normalize the two attributes based on z-score normalization\n",
    "print(ss.zscore(data2))\n",
    "\n",
    "# b) Calculate the correlation coefficient (Pearson’s product moment coefficient). Are these two attributes positively or negatively correlated? Compute their covariance.\n",
    "# calculate correlation coefficient\n",
    "print(np.corrcoef(age_data,fat_data))\n",
    "\n",
    "# result : 0.8176188\n",
    "# these two attributes positively correlated\n",
    "\n",
    "# calculate covariance\n",
    "print(np.cov(age_data,fat_data)[0][1])\n",
    "# result : 100.01960784313727"
   ]
  },
  {
   "cell_type": "code",
   "execution_count": 21,
   "metadata": {},
   "outputs": [
    {
     "name": "stdout",
     "output_type": "stream",
     "text": [
      "27\n"
     ]
    }
   ],
   "source": [
    "# 3번\n",
    "age = [13, 15, 16, 16, 19, 20, 20, 21, 22, 22, 25, 25, 25, 25, 30, 33, 33, 35, 35, 35, 35, 36, 40, 45, 46, 52, 70]\n",
    "\n",
    "# a) Use smoothing by bin means to smooth these data, using a bin depth of 3. Illustrate your steps.\n",
    "\n",
    "# b)\n",
    "# 직접 게산해보기."
   ]
  },
  {
   "cell_type": "code",
   "execution_count": null,
   "metadata": {},
   "outputs": [],
   "source": [
    "# 4번\n",
    "# 직접해보기"
   ]
  },
  {
   "cell_type": "code",
   "execution_count": 31,
   "metadata": {},
   "outputs": [
    {
     "name": "stdout",
     "output_type": "stream",
     "text": [
      "     A  big  medium  small\n",
      "0  1.0    1       0      0\n",
      "1  0.0    0       0      1\n",
      "2  0.4    0       1      0\n",
      "3  0.8    1       0      0\n",
      "4  0.2    0       0      1\n"
     ]
    }
   ],
   "source": [
    "# 5번\n",
    "from sklearn.preprocessing import MinMaxScaler\n",
    "\n",
    "scaler = MinMaxScaler()\n",
    "data5 = pd.DataFrame({'A':[100,0,40,80,20],'B':['big','small','medium','big','small']})\n",
    "\n",
    "# 0~1사이의 값으로 normalization\n",
    "data5['A'] =scaler.fit_transform(data5[['A']])\n",
    "\n",
    "# Get one-hot encoding of columns B\n",
    "one_hot = pd.get_dummies(data5['B'])\n",
    "\n",
    "# Drop column B as it is now encoded\n",
    "data5 = data5.drop('B',axis= 1)\n",
    "\n",
    "# Join the encoded data5\n",
    "data5 = data5.join(one_hot)\n",
    "\n",
    "print(data5)"
   ]
  }
 ],
 "metadata": {
  "interpreter": {
   "hash": "afc9a8c5671bb7f00fceddd0803cc1f45e1930e082f1b4b0e5070c79f71f0e4f"
  },
  "kernelspec": {
   "display_name": "Python 3.9.7 ('base')",
   "language": "python",
   "name": "python3"
  },
  "language_info": {
   "codemirror_mode": {
    "name": "ipython",
    "version": 3
   },
   "file_extension": ".py",
   "mimetype": "text/x-python",
   "name": "python",
   "nbconvert_exporter": "python",
   "pygments_lexer": "ipython3",
   "version": "3.9.7"
  },
  "orig_nbformat": 4
 },
 "nbformat": 4,
 "nbformat_minor": 2
}
