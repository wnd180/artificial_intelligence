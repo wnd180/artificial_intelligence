{
 "cells": [
  {
   "cell_type": "code",
   "execution_count": 1,
   "metadata": {},
   "outputs": [
    {
     "name": "stdout",
     "output_type": "stream",
     "text": [
      "(768, 9)\n",
      "     0    1   2   3    4     5      6   7  8\n",
      "0    6  148  72  35    0  33.6  0.627  50  1\n",
      "1    1   85  66  29    0  26.6  0.351  31  0\n",
      "2    8  183  64   0    0  23.3  0.672  32  1\n",
      "3    1   89  66  23   94  28.1  0.167  21  0\n",
      "4    0  137  40  35  168  43.1  2.288  33  1\n",
      "5    5  116  74   0    0  25.6  0.201  30  0\n",
      "6    3   78  50  32   88  31.0  0.248  26  1\n",
      "7   10  115   0   0    0  35.3  0.134  29  0\n",
      "8    2  197  70  45  543  30.5  0.158  53  1\n",
      "9    8  125  96   0    0   0.0  0.232  54  1\n",
      "10   4  110  92   0    0  37.6  0.191  30  0\n",
      "11  10  168  74   0    0  38.0  0.537  34  1\n",
      "12  10  139  80   0    0  27.1  1.441  57  0\n",
      "13   1  189  60  23  846  30.1  0.398  59  1\n",
      "14   5  166  72  19  175  25.8  0.587  51  1\n",
      "15   7  100   0   0    0  30.0  0.484  32  1\n",
      "16   0  118  84  47  230  45.8  0.551  31  1\n",
      "17   7  107  74   0    0  29.6  0.254  31  1\n",
      "18   1  103  30  38   83  43.3  0.183  33  0\n",
      "19   1  115  70  30   96  34.6  0.529  32  1\n"
     ]
    }
   ],
   "source": [
    "# a)\n",
    "import pandas as pd\n",
    "import numpy as np\n",
    "\n",
    "dataset = pd.read_csv('pima-indians-diabetes.csv',header=None)\n",
    "print(dataset.shape)\n",
    "print(dataset.head(20))"
   ]
  },
  {
   "cell_type": "code",
   "execution_count": 2,
   "metadata": {},
   "outputs": [
    {
     "name": "stdout",
     "output_type": "stream",
     "text": [
      "     0      1     2     3      4     5      6   7  8\n",
      "0    6  148.0  72.0  35.0    NaN  33.6  0.627  50  1\n",
      "1    1   85.0  66.0  29.0    NaN  26.6  0.351  31  0\n",
      "2    8  183.0  64.0   NaN    NaN  23.3  0.672  32  1\n",
      "3    1   89.0  66.0  23.0   94.0  28.1  0.167  21  0\n",
      "4    0  137.0  40.0  35.0  168.0  43.1  2.288  33  1\n",
      "5    5  116.0  74.0   NaN    NaN  25.6  0.201  30  0\n",
      "6    3   78.0  50.0  32.0   88.0  31.0  0.248  26  1\n",
      "7   10  115.0   NaN   NaN    NaN  35.3  0.134  29  0\n",
      "8    2  197.0  70.0  45.0  543.0  30.5  0.158  53  1\n",
      "9    8  125.0  96.0   NaN    NaN   NaN  0.232  54  1\n",
      "10   4  110.0  92.0   NaN    NaN  37.6  0.191  30  0\n",
      "11  10  168.0  74.0   NaN    NaN  38.0  0.537  34  1\n",
      "12  10  139.0  80.0   NaN    NaN  27.1  1.441  57  0\n",
      "13   1  189.0  60.0  23.0  846.0  30.1  0.398  59  1\n",
      "14   5  166.0  72.0  19.0  175.0  25.8  0.587  51  1\n",
      "15   7  100.0   NaN   NaN    NaN  30.0  0.484  32  1\n",
      "16   0  118.0  84.0  47.0  230.0  45.8  0.551  31  1\n",
      "17   7  107.0  74.0   NaN    NaN  29.6  0.254  31  1\n",
      "18   1  103.0  30.0  38.0   83.0  43.3  0.183  33  0\n",
      "19   1  115.0  70.0  30.0   96.0  34.6  0.529  32  1\n",
      "nan으로 치환된 데이터 셀의 개수 :  652\n"
     ]
    }
   ],
   "source": [
    "# b)\n",
    "cell_0_count = len(dataset[dataset[1]==0]) + len(dataset[dataset[2]==0]) + len(dataset[dataset[3]==0]) + len(dataset[dataset[4]==0]) + len(dataset[dataset[5]==0])\n",
    "dataset[[1,2,3,4,5]] = dataset[[1,2,3,4,5]].replace(0,np.NaN)\n",
    "print(dataset.head(20))\n",
    "print(\"nan으로 치환된 데이터 셀의 개수 : \",cell_0_count)"
   ]
  },
  {
   "cell_type": "code",
   "execution_count": 9,
   "metadata": {},
   "outputs": [
    {
     "name": "stdout",
     "output_type": "stream",
     "text": [
      "  (0, 2)\t1.0\n",
      "  (1, 1)\t1.0\n",
      "  (2, 2)\t1.0\n",
      "  (3, 1)\t1.0\n",
      "  (4, 0)\t1.0\n",
      "  (5, 2)\t1.0\n",
      "  (6, 1)\t1.0\n",
      "  (7, 2)\t1.0\n",
      "  (8, 1)\t1.0\n",
      "  (9, 2)\t1.0\n",
      "  (10, 2)\t1.0\n",
      "  (11, 2)\t1.0\n",
      "  (12, 2)\t1.0\n",
      "  (13, 1)\t1.0\n",
      "  (14, 2)\t1.0\n",
      "  (15, 2)\t1.0\n",
      "  (16, 0)\t1.0\n",
      "  (17, 2)\t1.0\n",
      "  (18, 1)\t1.0\n",
      "  (19, 1)\t1.0\n",
      "  (20, 1)\t1.0\n",
      "  (21, 2)\t1.0\n",
      "  (22, 2)\t1.0\n",
      "  (23, 2)\t1.0\n",
      "  (24, 2)\t1.0\n",
      "  :\t:\n",
      "  (743, 2)\t1.0\n",
      "  (744, 2)\t1.0\n",
      "  (745, 2)\t1.0\n",
      "  (746, 1)\t1.0\n",
      "  (747, 1)\t1.0\n",
      "  (748, 1)\t1.0\n",
      "  (749, 2)\t1.0\n",
      "  (750, 2)\t1.0\n",
      "  (751, 1)\t1.0\n",
      "  (752, 1)\t1.0\n",
      "  (753, 0)\t1.0\n",
      "  (754, 2)\t1.0\n",
      "  (755, 1)\t1.0\n",
      "  (756, 2)\t1.0\n",
      "  (757, 0)\t1.0\n",
      "  (758, 1)\t1.0\n",
      "  (759, 2)\t1.0\n",
      "  (760, 1)\t1.0\n",
      "  (761, 2)\t1.0\n",
      "  (762, 2)\t1.0\n",
      "  (763, 2)\t1.0\n",
      "  (764, 1)\t1.0\n",
      "  (765, 2)\t1.0\n",
      "  (766, 1)\t1.0\n",
      "  (767, 1)\t1.0\n",
      "<class 'scipy.sparse._csr.csr_matrix'>\n",
      "[[0. 1. 0.]\n",
      " [0. 0. 1.]\n",
      " [1. 0. 0.]\n",
      " [0. 1. 0.]\n",
      " [0. 0. 1.]\n",
      " [1. 0. 0.]\n",
      " [0. 1. 0.]\n",
      " [1. 0. 0.]\n",
      " [0. 1. 0.]\n",
      " [0. 1. 0.]\n",
      " [0. 1. 0.]\n",
      " [0. 1. 0.]\n",
      " [0. 0. 1.]\n",
      " [0. 0. 1.]\n",
      " [0. 0. 1.]\n",
      " [0. 1. 0.]\n",
      " [0. 1. 0.]\n",
      " [0. 0. 1.]\n",
      " [0. 1. 0.]\n",
      " [0. 0. 1.]\n",
      " [0. 0. 1.]]\n",
      "<class 'numpy.ndarray'>\n",
      "       0    1    2\n",
      "374  0.0  1.0  0.0\n",
      "375  0.0  0.0  1.0\n",
      "376  1.0  0.0  0.0\n",
      "377  0.0  1.0  0.0\n",
      "378  0.0  0.0  1.0\n",
      "379  1.0  0.0  0.0\n",
      "380  0.0  1.0  0.0\n",
      "381  1.0  0.0  0.0\n",
      "382  0.0  1.0  0.0\n",
      "383  0.0  1.0  0.0\n",
      "384  0.0  1.0  0.0\n",
      "385  0.0  1.0  0.0\n",
      "386  0.0  0.0  1.0\n",
      "387  0.0  0.0  1.0\n",
      "388  0.0  0.0  1.0\n",
      "389  0.0  1.0  0.0\n",
      "390  0.0  1.0  0.0\n",
      "391  0.0  0.0  1.0\n",
      "392  0.0  1.0  0.0\n",
      "393  0.0  0.0  1.0\n",
      "394  0.0  0.0  1.0\n",
      "<class 'pandas.core.frame.DataFrame'>\n"
     ]
    }
   ],
   "source": [
    "# c)\n",
    "from sklearn.preprocessing import OneHotEncoder\n",
    "from sklearn.preprocessing import LabelEncoder\n",
    "from sklearn.compose import ColumnTransformer\n",
    "\n",
    "dataset = pd.read_csv('pima-indians-diabetes.csv',header=None)\n",
    "dataset[(dataset[0] == 0)] = 0\n",
    "dataset[(dataset[0] == 1)] = 1\n",
    "dataset[(dataset[0] == 2)] = 1\n",
    "dataset[(dataset[0] == 3)] = 1\n",
    "dataset[(dataset[0] > 3)] = 2\n",
    "dataset = dataset[0]\n",
    "dataset = pd.DataFrame(dataset)\n",
    "\n",
    "encoder = OneHotEncoder(categories=\"auto\")\n",
    "dataset = encoder.fit_transform(dataset)\n",
    "print(dataset)\n",
    "print(type(dataset))\n",
    "\n",
    "dataset = dataset.toarray()\n",
    "print(dataset[374:395])\n",
    "print(type(dataset))\n",
    "\n",
    "dataset = pd.DataFrame(dataset)\n",
    "print(dataset[374:395])\n",
    "print(type(dataset))\n",
    "\n"
   ]
  },
  {
   "cell_type": "code",
   "execution_count": 13,
   "metadata": {},
   "outputs": [
    {
     "name": "stdout",
     "output_type": "stream",
     "text": [
      "(768, 9)\n",
      "(768, 9)\n"
     ]
    }
   ],
   "source": [
    "# d)\n",
    "dataset = pd.read_csv('pima-indians-diabetes.csv',header=None)\n",
    "dataset[[1,2,3,4,5]] = dataset[[1,2,3,4,5]].replace(0,np.NaN)\n",
    "print(dataset.shape)\n",
    "\n",
    "dataset.dropna(inplace=True)\n",
    "print(dataset.shape)\n",
    "\n",
    "print(\"768 -> 392\")"
   ]
  },
  {
   "cell_type": "code",
   "execution_count": 5,
   "metadata": {},
   "outputs": [],
   "source": [
    "# e)"
   ]
  },
  {
   "cell_type": "code",
   "execution_count": 6,
   "metadata": {},
   "outputs": [],
   "source": [
    "# f)"
   ]
  }
 ],
 "metadata": {
  "interpreter": {
   "hash": "6ecdebf77f2ee3a47348d003f751c63e810ca996c1c68d1179f338200fa83b34"
  },
  "kernelspec": {
   "display_name": "Python 3.9.12 64-bit",
   "language": "python",
   "name": "python3"
  },
  "language_info": {
   "codemirror_mode": {
    "name": "ipython",
    "version": 3
   },
   "file_extension": ".py",
   "mimetype": "text/x-python",
   "name": "python",
   "nbconvert_exporter": "python",
   "pygments_lexer": "ipython3",
   "version": "3.9.12"
  },
  "orig_nbformat": 4
 },
 "nbformat": 4,
 "nbformat_minor": 2
}
