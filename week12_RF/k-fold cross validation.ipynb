{
 "cells": [
  {
   "cell_type": "code",
   "execution_count": 19,
   "metadata": {},
   "outputs": [
    {
     "name": "stdout",
     "output_type": "stream",
     "text": [
      "execution time 0.1\n",
      "각 validation 정답률 [0.94092308 1.         0.99630769 1.         0.72721675]\n",
      "평균정답률 0.9328895035998486\n"
     ]
    }
   ],
   "source": [
    "import pandas as pd\n",
    "from sklearn.ensemble import RandomForestClassifier\n",
    "from sklearn.model_selection import train_test_split\n",
    "from sklearn import metrics, model_selection\n",
    "from time import time\n",
    "\n",
    "mr = pd.read_csv(\"mushroom.csv\",header = None)\n",
    "\n",
    "df = pd.DataFrame(mr.iloc[:,0])\n",
    "\n",
    "df = df.join(pd.get_dummies(mr.iloc[:,1:]))\n",
    "\n",
    "data = df.iloc[:, 1:]\n",
    "label = df.loc[:,0]\n",
    "\n",
    "start = time()\n",
    "\n",
    "clf = RandomForestClassifier(n_estimators = 5)\n",
    "clf.fit(data,label)\n",
    "\n",
    "scores = model_selection.cross_val_score(clf,data,label,cv=5)\n",
    "end = time()\n",
    "print(\"execution time\",str(round((end-start),2)))\n",
    "print(\"각 validation 정답률\",scores)\n",
    "print(\"평균정답률\", scores.mean())"
   ]
  },
  {
   "cell_type": "code",
   "execution_count": 25,
   "metadata": {},
   "outputs": [
    {
     "name": "stdout",
     "output_type": "stream",
     "text": [
      "execution time 1.93\n",
      "각 validation 정답률 [0.68511685 1.         1.         1.         1.         1.\n",
      " 1.         1.         0.99261084 1.        ]\n",
      "평균정답률 0.9677727688606936\n"
     ]
    }
   ],
   "source": [
    "import pandas as pd\n",
    "from sklearn.ensemble import RandomForestClassifier\n",
    "from sklearn.model_selection import train_test_split\n",
    "from sklearn import metrics, model_selection\n",
    "from time import time\n",
    "\n",
    "mr = pd.read_csv(\"mushroom.csv\",header = None)\n",
    "\n",
    "df = pd.DataFrame(mr.iloc[:,0])\n",
    "\n",
    "df = df.join(pd.get_dummies(mr.iloc[:,1:]))\n",
    "\n",
    "data = df.iloc[:, 1:]\n",
    "label = df.loc[:,0]\n",
    "\n",
    "start = time()\n",
    "\n",
    "clf = RandomForestClassifier(n_estimators = 100)\n",
    "clf.fit(data,label)\n",
    "\n",
    "scores = model_selection.cross_val_score(clf,data,label,cv=10)\n",
    "end = time()\n",
    "print(\"execution time\",str(round((end-start),2)))\n",
    "print(\"각 validation 정답률\",scores)\n",
    "print(\"평균정답률\", scores.mean())"
   ]
  }
 ],
 "metadata": {
  "interpreter": {
   "hash": "6ecdebf77f2ee3a47348d003f751c63e810ca996c1c68d1179f338200fa83b34"
  },
  "kernelspec": {
   "display_name": "Python 3.9.12 64-bit",
   "language": "python",
   "name": "python3"
  },
  "language_info": {
   "codemirror_mode": {
    "name": "ipython",
    "version": 3
   },
   "file_extension": ".py",
   "mimetype": "text/x-python",
   "name": "python",
   "nbconvert_exporter": "python",
   "pygments_lexer": "ipython3",
   "version": "3.9.12"
  },
  "orig_nbformat": 4
 },
 "nbformat": 4,
 "nbformat_minor": 2
}
