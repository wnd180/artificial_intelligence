{
 "cells": [
  {
   "cell_type": "code",
   "execution_count": 3,
   "metadata": {},
   "outputs": [
    {
     "name": "stdout",
     "output_type": "stream",
     "text": [
      "ok\n"
     ]
    }
   ],
   "source": [
    "import pandas as pd\n",
    "from sklearn.model_selection import train_test_split\n",
    "import urllib.request as req\n",
    "\n",
    "local = \"mushroom.csv\"\n",
    "url = \"https://archive.ics.uci.edu/ml/machine-learning-databases/mushroom/agaricus-lepiota.data\"\n",
    "req.urlretrieve(url,local)\n",
    "print(\"ok\")"
   ]
  },
  {
   "cell_type": "code",
   "execution_count": 4,
   "metadata": {},
   "outputs": [
    {
     "name": "stdout",
     "output_type": "stream",
     "text": [
      "      0  1_b  1_c  1_f  1_k  1_s  1_x  2_f  2_g  2_s  ...  21_s  21_v  21_y  \\\n",
      "0     p    0    0    0    0    0    1    0    0    1  ...     1     0     0   \n",
      "1     e    0    0    0    0    0    1    0    0    1  ...     0     0     0   \n",
      "2     e    1    0    0    0    0    0    0    0    1  ...     0     0     0   \n",
      "3     p    0    0    0    0    0    1    0    0    0  ...     1     0     0   \n",
      "4     e    0    0    0    0    0    1    0    0    1  ...     0     0     0   \n",
      "...  ..  ...  ...  ...  ...  ...  ...  ...  ...  ...  ...   ...   ...   ...   \n",
      "8119  e    0    0    0    1    0    0    0    0    1  ...     0     0     0   \n",
      "8120  e    0    0    0    0    0    1    0    0    1  ...     0     1     0   \n",
      "8121  e    0    0    1    0    0    0    0    0    1  ...     0     0     0   \n",
      "8122  p    0    0    0    1    0    0    0    0    0  ...     0     1     0   \n",
      "8123  e    0    0    0    0    0    1    0    0    1  ...     0     0     0   \n",
      "\n",
      "      22_d  22_g  22_l  22_m  22_p  22_u  22_w  \n",
      "0        0     0     0     0     0     1     0  \n",
      "1        0     1     0     0     0     0     0  \n",
      "2        0     0     0     1     0     0     0  \n",
      "3        0     0     0     0     0     1     0  \n",
      "4        0     1     0     0     0     0     0  \n",
      "...    ...   ...   ...   ...   ...   ...   ...  \n",
      "8119     0     0     1     0     0     0     0  \n",
      "8120     0     0     1     0     0     0     0  \n",
      "8121     0     0     1     0     0     0     0  \n",
      "8122     0     0     1     0     0     0     0  \n",
      "8123     0     0     1     0     0     0     0  \n",
      "\n",
      "[8124 rows x 118 columns]\n"
     ]
    }
   ],
   "source": [
    "from sklearn.ensemble import RandomForestClassifier\n",
    "from sklearn import metrics\n",
    "mr =  pd.read_csv(\"mushroom.csv\",header=None)\n",
    "df = pd.DataFrame(mr.iloc[:,0])\n",
    "df = df.join(pd.get_dummies(mr.iloc[:,1:]))\n",
    "print(df)"
   ]
  },
  {
   "cell_type": "code",
   "execution_count": 5,
   "metadata": {},
   "outputs": [
    {
     "name": "stdout",
     "output_type": "stream",
     "text": [
      "     label pre\n",
      "6552     p   p\n",
      "7501     p   p\n",
      "7050     e   e\n",
      "4817     p   p\n",
      "6484     p   p\n",
      "4229     p   p\n",
      "7342     p   p\n",
      "7801     p   p\n",
      "1397     e   e\n",
      "1637     p   p\n"
     ]
    }
   ],
   "source": [
    "data = df.iloc[:,1:]\n",
    "label = df.iloc[:,0]\n",
    "\n",
    "train_data, test_data, train_label, test_label = train_test_split(data,label)\n",
    "\n",
    "clf = RandomForestClassifier()\n",
    "clf.fit(train_data,train_label)\n",
    "\n",
    "predict = clf.predict(test_data)\n",
    "\n",
    "result = pd.DataFrame({\"label\":test_label, \"pre\":predict})\n",
    "print(result[0:10])\n"
   ]
  },
  {
   "cell_type": "code",
   "execution_count": 6,
   "metadata": {},
   "outputs": [
    {
     "name": "stdout",
     "output_type": "stream",
     "text": [
      "정답률 :  1.0\n"
     ]
    }
   ],
   "source": [
    "ac_score = metrics.accuracy_score(test_label,predict)\n",
    "print(\"정답률 : \", ac_score)"
   ]
  }
 ],
 "metadata": {
  "interpreter": {
   "hash": "afc9a8c5671bb7f00fceddd0803cc1f45e1930e082f1b4b0e5070c79f71f0e4f"
  },
  "kernelspec": {
   "display_name": "Python 3.9.12 ('base')",
   "language": "python",
   "name": "python3"
  },
  "language_info": {
   "codemirror_mode": {
    "name": "ipython",
    "version": 3
   },
   "file_extension": ".py",
   "mimetype": "text/x-python",
   "name": "python",
   "nbconvert_exporter": "python",
   "pygments_lexer": "ipython3",
   "version": "3.9.12"
  },
  "orig_nbformat": 4
 },
 "nbformat": 4,
 "nbformat_minor": 2
}
