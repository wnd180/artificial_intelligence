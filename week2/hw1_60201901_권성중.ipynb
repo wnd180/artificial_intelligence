{
 "cells": [
  {
   "cell_type": "code",
   "execution_count": 41,
   "metadata": {},
   "outputs": [
    {
     "name": "stdout",
     "output_type": "stream",
     "text": [
      "1-a\n",
      "[['cs', 'cs', 'dt', 'dcd', 'dt', 'as', 'as', 'ice', 'ice', 'ice'], ['0001', '0002', '0003', '0004', '0005', '0006', '0007', '0008', '0009', '0010'], [2.1, 3.5, 4.5, 2.7, 3.0, 3.15, 4.0, 0.0, 3.25, 3.7]]\n",
      "1-b\n",
      "[['cs' 'cs' 'dt' 'dcd' 'dt' 'as' 'as' 'ice' 'ice' 'ice']\n",
      " ['0001' '0002' '0003' '0004' '0005' '0006' '0007' '0008' '0009' '0010']\n",
      " ['2.1' '3.5' '4.5' '2.7' '3.0' '3.15' '4.0' '0.0' '3.25' '3.7']]\n",
      "1-c\n",
      "dep         [cs, cs, dt, dcd, dt, as, as, ice, ice, ice]\n",
      "sno    [0001, 0002, 0003, 0004, 0005, 0006, 0007, 000...\n",
      "gpa    [2.1, 3.5, 4.5, 2.7, 3.0, 3.15, 4.0, 0.0, 3.25...\n",
      "dtype: object\n"
     ]
    }
   ],
   "source": [
    "import numpy as np\n",
    "import pandas as pd\n",
    "\n",
    "# 1번\n",
    "\n",
    "#a\n",
    "print(\"1-a\")\n",
    "a_1 = [[\"cs\",\"cs\",\"dt\",\"dcd\",\"dt\",\"as\",\"as\",'ice',\"ice\",'ice'],['0001','0002','0003','0004','0005','0006','0007','0008','0009','0010'],[2.10,3.50,4.50,2.70,3.00,3.15,4.00,0.00,3.25,3.70]]\n",
    "print(a_1)\n",
    "\n",
    "#b\n",
    "print(\"1-b\")\n",
    "b_1 = np.array(a_1)\n",
    "print(b_1)\n",
    "\n",
    "#c\n",
    "print(\"1-c\")\n",
    "c_1 = pd.Series(a_1, index=['dep','sno','gpa'])\n",
    "print(c_1)"
   ]
  },
  {
   "cell_type": "code",
   "execution_count": 42,
   "metadata": {},
   "outputs": [
    {
     "name": "stdout",
     "output_type": "stream",
     "text": [
      "2.9899999999999998\n",
      "2.99\n",
      "3.2\n",
      "2.99\n",
      "3.2\n"
     ]
    }
   ],
   "source": [
    "# 2번\n",
    "\n",
    "# a\n",
    "print(sum(a_1[2])/len(a_1[1]))\n",
    "\n",
    "# b\n",
    "# mean출력\n",
    "print(np.mean(list(map(float,b_1[2]))))\n",
    "# median 출력\n",
    "print(np.median(list(map(float,b_1[2]))))\n",
    "\n",
    "# c\n",
    "# mean 출력\n",
    "print(np.mean(c_1[\"gpa\"]))\n",
    "# median 출력\n",
    "print(np.median(c_1[\"gpa\"]))\n"
   ]
  },
  {
   "cell_type": "code",
   "execution_count": 46,
   "metadata": {},
   "outputs": [
    {
     "name": "stdout",
     "output_type": "stream",
     "text": [
      "3.2\n"
     ]
    }
   ],
   "source": [
    "# 3번\n",
    "\n",
    "def calculating_median(list):\n",
    "\n",
    "    list.sort()\n",
    "\n",
    "    if len(list)%2 ==0 :\n",
    "        second_median_num = len(list)//2\n",
    "        first_median_num = second_median_num-1\n",
    "        print((list[first_median_num]+list[second_median_num])/2)\n",
    "\n",
    "    else:\n",
    "        median_num = len(list)//2\n",
    "        print(list[median_num])\n",
    "\n",
    "gpa_median = a_1[2]\n",
    "calculating_median(gpa_median)\n"
   ]
  },
  {
   "cell_type": "code",
   "execution_count": 66,
   "metadata": {},
   "outputs": [
    {
     "name": "stdout",
     "output_type": "stream",
     "text": [
      "   dep   sno  gpa\n",
      "7  ice  0008  3.7\n"
     ]
    }
   ],
   "source": [
    "# 4번\n",
    "\n",
    "df = pd.DataFrame(a_1,index=[\"dep\",\"sno\",\"gpa\"])\n",
    "\n",
    "t_df = df.transpose()\n",
    "\n",
    "sort_df = t_df.sort_values(by=\"gpa\", ascending=False)\n",
    "print(sort_df[2:3])\n"
   ]
  },
  {
   "cell_type": "code",
   "execution_count": 79,
   "metadata": {},
   "outputs": [
    {
     "name": "stdout",
     "output_type": "stream",
     "text": [
      "dep\n",
      "as     3.375000\n",
      "cs     1.050000\n",
      "dcd    3.000000\n",
      "dt     2.925000\n",
      "ice    4.066667\n",
      "Name: gpa, dtype: float64\n",
      "dep\n",
      "as     3.50\n",
      "cs     2.10\n",
      "dcd    3.00\n",
      "dt     3.15\n",
      "ice    4.50\n",
      "Name: gpa, dtype: float64\n",
      "dep\n",
      "as     3.25\n",
      "cs     0.00\n",
      "dcd    3.00\n",
      "dt     2.70\n",
      "ice    3.70\n",
      "Name: gpa, dtype: float64\n"
     ]
    }
   ],
   "source": [
    "# 5번\n",
    "\n",
    "group_df = t_df['gpa'].groupby(t_df['dep'])\n",
    "print(group_df.mean())\n",
    "print(group_df.max())\n",
    "print(group_df.min())"
   ]
  },
  {
   "cell_type": "code",
   "execution_count": 113,
   "metadata": {},
   "outputs": [
    {
     "name": "stdout",
     "output_type": "stream",
     "text": [
      "year  2018  2019  2020  2021\n",
      "dep                         \n",
      "as     NaN   NaN   3.6   3.7\n",
      "cs     2.8   NaN   0.0   NaN\n",
      "dt     NaN   3.6   3.0   3.2\n"
     ]
    }
   ],
   "source": [
    "# 6번\n",
    "\n",
    "year_df = pd.DataFrame({ 'dep' : [\"cs\", \"cs\", \"dt\", \"dt\", \"dt\", \"as\", \"as\", \"cs\", \"dt\", \"as\"],\n",
    "'sno' : [\"0001\", \"0002\", \"0003\", \"0004\", \"0005\", \"0006\", \"0007\", \"0008\", \"0009\", \"0010\"],\n",
    "'gpa' : [2.10, 3.50, 4.50, 2.70, 3.00, 3.20, 4.00, 0.00, 3.20, 3.70],\n",
    "'year' : [2018, 2018, 2019, 2019, 2020, 2020, 2020, 2020, 2021, 2021]})\n",
    "year_df = year_df.groupby(['dep','year'],as_index=False).mean()\n",
    "tmp = year_df.pivot(index='dep',columns='year',values = 'gpa')\n",
    "print(tmp)\n",
    "\n"
   ]
  }
 ],
 "metadata": {
  "interpreter": {
   "hash": "6ecdebf77f2ee3a47348d003f751c63e810ca996c1c68d1179f338200fa83b34"
  },
  "kernelspec": {
   "display_name": "Python 3.9.10 64-bit",
   "language": "python",
   "name": "python3"
  },
  "language_info": {
   "codemirror_mode": {
    "name": "ipython",
    "version": 3
   },
   "file_extension": ".py",
   "mimetype": "text/x-python",
   "name": "python",
   "nbconvert_exporter": "python",
   "pygments_lexer": "ipython3",
   "version": "3.9.10"
  },
  "orig_nbformat": 4
 },
 "nbformat": 4,
 "nbformat_minor": 2
}
